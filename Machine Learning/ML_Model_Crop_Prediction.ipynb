{
 "cells": [
  {
   "cell_type": "code",
   "execution_count": 54,
   "id": "63f285a8",
   "metadata": {},
   "outputs": [],
   "source": [
    "import pandas as pd\n",
    "from sklearn.preprocessing import OneHotEncoder\n",
    "from sklearn.preprocessing import StandardScaler\n",
    "from sklearn.model_selection import train_test_split\n",
    "from sklearn.linear_model import LinearRegression\n",
    "from sklearn.metrics import mean_squared_error, r2_score\n",
    "from sklearn.ensemble import RandomForestRegressor, GradientBoostingRegressor\n",
    "from sklearn.neural_network import MLPRegressor\n",
    "from sklearn.tree import DecisionTreeRegressor\n",
    "from sklearn import linear_model\n",
    "from sklearn.model_selection import GridSearchCV\n",
    "import numpy as np"
   ]
  },
  {
   "cell_type": "code",
   "execution_count": 6,
   "id": "b8242063",
   "metadata": {},
   "outputs": [
    {
     "data": {
      "text/html": [
       "<div>\n",
       "<style scoped>\n",
       "    .dataframe tbody tr th:only-of-type {\n",
       "        vertical-align: middle;\n",
       "    }\n",
       "\n",
       "    .dataframe tbody tr th {\n",
       "        vertical-align: top;\n",
       "    }\n",
       "\n",
       "    .dataframe thead th {\n",
       "        text-align: right;\n",
       "    }\n",
       "</style>\n",
       "<table border=\"1\" class=\"dataframe\">\n",
       "  <thead>\n",
       "    <tr style=\"text-align: right;\">\n",
       "      <th></th>\n",
       "      <th>year</th>\n",
       "      <th>country</th>\n",
       "      <th>avg_temp</th>\n",
       "    </tr>\n",
       "  </thead>\n",
       "  <tbody>\n",
       "    <tr>\n",
       "      <th>0</th>\n",
       "      <td>1849</td>\n",
       "      <td>Côte D'Ivoire</td>\n",
       "      <td>25.58</td>\n",
       "    </tr>\n",
       "    <tr>\n",
       "      <th>1</th>\n",
       "      <td>1850</td>\n",
       "      <td>Côte D'Ivoire</td>\n",
       "      <td>25.52</td>\n",
       "    </tr>\n",
       "    <tr>\n",
       "      <th>2</th>\n",
       "      <td>1851</td>\n",
       "      <td>Côte D'Ivoire</td>\n",
       "      <td>25.67</td>\n",
       "    </tr>\n",
       "    <tr>\n",
       "      <th>3</th>\n",
       "      <td>1852</td>\n",
       "      <td>Côte D'Ivoire</td>\n",
       "      <td>NaN</td>\n",
       "    </tr>\n",
       "    <tr>\n",
       "      <th>4</th>\n",
       "      <td>1853</td>\n",
       "      <td>Côte D'Ivoire</td>\n",
       "      <td>NaN</td>\n",
       "    </tr>\n",
       "  </tbody>\n",
       "</table>\n",
       "</div>"
      ],
      "text/plain": [
       "   year        country  avg_temp\n",
       "0  1849  Côte D'Ivoire     25.58\n",
       "1  1850  Côte D'Ivoire     25.52\n",
       "2  1851  Côte D'Ivoire     25.67\n",
       "3  1852  Côte D'Ivoire       NaN\n",
       "4  1853  Côte D'Ivoire       NaN"
      ]
     },
     "execution_count": 6,
     "metadata": {},
     "output_type": "execute_result"
    }
   ],
   "source": [
    "temp = pd.read_csv(\"temp.csv\")\n",
    "rainfall = pd.read_csv(\"rainfall.csv\")\n",
    "pesticides = pd.read_csv(\"pesticides.csv\")\n",
    "yeild = pd.read_csv(\"yield.csv\")\n",
    "temp.head()"
   ]
  },
  {
   "cell_type": "code",
   "execution_count": 7,
   "id": "3e56e7f1",
   "metadata": {},
   "outputs": [],
   "source": [
    "temp = temp.loc[temp[\"year\"] >= 1990].copy()\n",
    "temp.rename(columns={\"year\":\"Year\",\"country\":\"Country\", \"avg_temp\":\"Average Temperature\"}, inplace=True)"
   ]
  },
  {
   "cell_type": "code",
   "execution_count": 10,
   "id": "160ad1d8",
   "metadata": {},
   "outputs": [],
   "source": [
    "first_merge = pd.merge(temp, yeild, how=\"inner\", on=[\"Country\", \"Year\"])\n",
    "second_merge = pd.merge(pesticides, first_merge, how=\"inner\", on=[\"Country\", \"Year\"])\n",
    "final_data = pd.merge(rainfall, second_merge, how=\"inner\", on=[\"Country\", \"Year\"])"
   ]
  },
  {
   "cell_type": "code",
   "execution_count": 12,
   "id": "16e45e79",
   "metadata": {},
   "outputs": [
    {
     "data": {
      "text/html": [
       "<div>\n",
       "<style scoped>\n",
       "    .dataframe tbody tr th:only-of-type {\n",
       "        vertical-align: middle;\n",
       "    }\n",
       "\n",
       "    .dataframe tbody tr th {\n",
       "        vertical-align: top;\n",
       "    }\n",
       "\n",
       "    .dataframe thead th {\n",
       "        text-align: right;\n",
       "    }\n",
       "</style>\n",
       "<table border=\"1\" class=\"dataframe\">\n",
       "  <thead>\n",
       "    <tr style=\"text-align: right;\">\n",
       "      <th></th>\n",
       "      <th>Country</th>\n",
       "      <th>Year</th>\n",
       "      <th>Average Rainfall (mm/year)</th>\n",
       "      <th>Pesticides (Tonnes)</th>\n",
       "      <th>Average Temperature</th>\n",
       "      <th>Item</th>\n",
       "      <th>Yield (hg/ha)</th>\n",
       "    </tr>\n",
       "  </thead>\n",
       "  <tbody>\n",
       "    <tr>\n",
       "      <th>0</th>\n",
       "      <td>Albania</td>\n",
       "      <td>1990</td>\n",
       "      <td>1485</td>\n",
       "      <td>121.0</td>\n",
       "      <td>16.37</td>\n",
       "      <td>Maize</td>\n",
       "      <td>36613</td>\n",
       "    </tr>\n",
       "    <tr>\n",
       "      <th>1</th>\n",
       "      <td>Albania</td>\n",
       "      <td>1990</td>\n",
       "      <td>1485</td>\n",
       "      <td>121.0</td>\n",
       "      <td>16.37</td>\n",
       "      <td>Potatoes</td>\n",
       "      <td>66667</td>\n",
       "    </tr>\n",
       "    <tr>\n",
       "      <th>2</th>\n",
       "      <td>Albania</td>\n",
       "      <td>1990</td>\n",
       "      <td>1485</td>\n",
       "      <td>121.0</td>\n",
       "      <td>16.37</td>\n",
       "      <td>Rice, paddy</td>\n",
       "      <td>23333</td>\n",
       "    </tr>\n",
       "    <tr>\n",
       "      <th>3</th>\n",
       "      <td>Albania</td>\n",
       "      <td>1990</td>\n",
       "      <td>1485</td>\n",
       "      <td>121.0</td>\n",
       "      <td>16.37</td>\n",
       "      <td>Sorghum</td>\n",
       "      <td>12500</td>\n",
       "    </tr>\n",
       "    <tr>\n",
       "      <th>4</th>\n",
       "      <td>Albania</td>\n",
       "      <td>1990</td>\n",
       "      <td>1485</td>\n",
       "      <td>121.0</td>\n",
       "      <td>16.37</td>\n",
       "      <td>Soybeans</td>\n",
       "      <td>7000</td>\n",
       "    </tr>\n",
       "  </tbody>\n",
       "</table>\n",
       "</div>"
      ],
      "text/plain": [
       "   Country  Year  Average Rainfall (mm/year)  Pesticides (Tonnes)  \\\n",
       "0  Albania  1990                        1485                121.0   \n",
       "1  Albania  1990                        1485                121.0   \n",
       "2  Albania  1990                        1485                121.0   \n",
       "3  Albania  1990                        1485                121.0   \n",
       "4  Albania  1990                        1485                121.0   \n",
       "\n",
       "   Average Temperature         Item  Yield (hg/ha)  \n",
       "0                16.37        Maize          36613  \n",
       "1                16.37     Potatoes          66667  \n",
       "2                16.37  Rice, paddy          23333  \n",
       "3                16.37      Sorghum          12500  \n",
       "4                16.37     Soybeans           7000  "
      ]
     },
     "execution_count": 12,
     "metadata": {},
     "output_type": "execute_result"
    }
   ],
   "source": [
    "final_data.head()"
   ]
  },
  {
   "cell_type": "code",
   "execution_count": 14,
   "id": "f41be210",
   "metadata": {},
   "outputs": [
    {
     "data": {
      "text/plain": [
       "{'India': 4048,\n",
       " 'Brazil': 2277,\n",
       " 'Mexico': 1472,\n",
       " 'Pakistan': 1449,\n",
       " 'Venezuela': 1150,\n",
       " 'Russia': 1134,\n",
       " 'Australia': 966,\n",
       " 'Japan': 966,\n",
       " 'Indonesia': 828,\n",
       " 'South Africa': 644,\n",
       " 'Turkey': 625,\n",
       " 'Ecuador': 621,\n",
       " 'Canada': 552,\n",
       " 'Spain': 483,\n",
       " 'Colombia': 414,\n",
       " 'Argentina': 368,\n",
       " 'Dominican Republic': 368,\n",
       " 'Iran': 345,\n",
       " 'Italy': 322,\n",
       " 'Morocco': 322,\n",
       " 'Egypt': 322,\n",
       " 'Bangladesh': 294,\n",
       " 'Iraq': 276,\n",
       " 'Vietnam': 276,\n",
       " 'Germany': 270,\n",
       " 'Kazakhstan': 252,\n",
       " 'Tanzania': 230,\n",
       " 'United Kingdom': 230,\n",
       " 'Cameroon': 230,\n",
       " 'Kenya': 230,\n",
       " 'Chile': 230,\n",
       " 'Mali': 207,\n",
       " 'Burundi': 207,\n",
       " 'Uganda': 207,\n",
       " 'Bolivia': 207,\n",
       " 'Rwanda': 207,\n",
       " 'Peru': 207,\n",
       " 'Guatemala': 204,\n",
       " 'Honduras': 204,\n",
       " 'Sri Lanka': 184,\n",
       " 'Madagascar': 184,\n",
       " 'Saudi Arabia': 184,\n",
       " 'Zimbabwe': 184,\n",
       " 'Haiti': 184,\n",
       " 'Burkina Faso': 184,\n",
       " 'El Salvador': 184,\n",
       " 'Zambia': 184,\n",
       " 'Nicaragua': 183,\n",
       " 'Malawi': 171,\n",
       " 'Guinea': 171,\n",
       " 'Angola': 164,\n",
       " 'Thailand': 161,\n",
       " 'Mozambique': 161,\n",
       " 'Uruguay': 161,\n",
       " 'Central African Republic': 161,\n",
       " 'Mauritania': 161,\n",
       " 'Greece': 161,\n",
       " 'Jamaica': 161,\n",
       " 'Papua New Guinea': 161,\n",
       " 'Niger': 161,\n",
       " 'Ghana': 155,\n",
       " 'Senegal': 138,\n",
       " 'Bulgaria': 138,\n",
       " 'Hungary': 138,\n",
       " 'Romania': 138,\n",
       " 'Portugal': 138,\n",
       " 'France': 138,\n",
       " 'Laos': 138,\n",
       " 'Suriname': 138,\n",
       " 'Libya': 138,\n",
       " 'Ukraine': 126,\n",
       " 'Tajikistan': 125,\n",
       " 'Guyana': 124,\n",
       " 'Syria': 122,\n",
       " 'Azerbaijan': 116,\n",
       " 'Nepal': 115,\n",
       " 'Algeria': 114,\n",
       " 'Croatia': 105,\n",
       " 'Moldova': 105,\n",
       " 'Mauritius': 101,\n",
       " 'Slovakia': 100,\n",
       " 'Albania': 99,\n",
       " 'Austria': 96,\n",
       " 'Malaysia': 93,\n",
       " 'Switzerland': 92,\n",
       " 'Lesotho': 92,\n",
       " 'Lebanon': 92,\n",
       " 'New Zealand': 92,\n",
       " 'Slovenia': 84,\n",
       " 'Namibia': 82,\n",
       " 'Eritrea': 80,\n",
       " 'Poland': 78,\n",
       " 'Tunisia': 69,\n",
       " 'Qatar': 69,\n",
       " 'Netherlands': 69,\n",
       " 'Bahamas': 67,\n",
       " 'Botswana': 64,\n",
       " 'Belarus': 63,\n",
       " 'Armenia': 63,\n",
       " 'Lithuania': 63,\n",
       " 'Denmark': 50,\n",
       " 'Ireland': 46,\n",
       " 'Finland': 46,\n",
       " 'Norway': 46,\n",
       " 'Sweden': 46,\n",
       " 'Latvia': 42,\n",
       " 'Estonia': 42,\n",
       " 'Belgium': 39,\n",
       " 'Bahrain': 29,\n",
       " 'Sudan': 28,\n",
       " 'Montenegro': 24}"
      ]
     },
     "execution_count": 14,
     "metadata": {},
     "output_type": "execute_result"
    }
   ],
   "source": [
    "country_count = dict(final_data.Country.value_counts())\n",
    "country_count"
   ]
  },
  {
   "cell_type": "code",
   "execution_count": 15,
   "id": "a71f0cb8",
   "metadata": {},
   "outputs": [],
   "source": [
    "def country_modifier(x, val_counts):\n",
    "    \"\"\"Modify a Country.\"\"\"\n",
    "    if val_counts[x] >= 600:\n",
    "        return x\n",
    "    else:\n",
    "        return \"Other\"\n",
    "\n",
    "final_data[\"Country_New\"] = final_data[\"Country\"].apply(\n",
    "    country_modifier, val_counts=country_count\n",
    ")"
   ]
  },
  {
   "cell_type": "code",
   "execution_count": 17,
   "id": "b233af6b",
   "metadata": {},
   "outputs": [],
   "source": [
    "features_data = final_data[\n",
    "    [\n",
    "        \"Country_New\",\n",
    "        \"Average Rainfall (mm/year)\",\n",
    "        \"Pesticides (Tonnes)\",\n",
    "        \"Average Temperature\",\n",
    "        \"Item\",\n",
    "    ]\n",
    "]\n",
    "response = final_data[\"Yield (hg/ha)\"]"
   ]
  },
  {
   "cell_type": "code",
   "execution_count": 18,
   "id": "17b45367",
   "metadata": {},
   "outputs": [],
   "source": [
    "# main test split\n",
    "X_train, X_test, y_train, y_test = train_test_split(\n",
    "    features_data,\n",
    "    response,\n",
    "    test_size=0.2,\n",
    "    random_state=42,\n",
    "    stratify=features_data[[\"Country_New\", \"Item\"]],\n",
    ")"
   ]
  },
  {
   "cell_type": "code",
   "execution_count": 19,
   "id": "4027bd7a",
   "metadata": {},
   "outputs": [],
   "source": [
    "categorical_data = X_train[[\"Country_New\", \"Item\"]]\n",
    "numerical_data = X_train[\n",
    "    [\"Average Rainfall (mm/year)\", \"Pesticides (Tonnes)\", \"Average Temperature\"]\n",
    "]"
   ]
  },
  {
   "cell_type": "code",
   "execution_count": 20,
   "id": "14a81d3f",
   "metadata": {},
   "outputs": [],
   "source": [
    "# One hot encoder\n",
    "ohe = OneHotEncoder(handle_unknown=\"error\")\n",
    "ohe.fit(categorical_data)\n",
    "ohe_data = ohe.transform(categorical_data).toarray()"
   ]
  },
  {
   "cell_type": "code",
   "execution_count": 21,
   "id": "936054a1",
   "metadata": {},
   "outputs": [],
   "source": [
    "#Standarzizing data\n",
    "std = StandardScaler()\n",
    "std.fit(numerical_data)\n",
    "num_data = std.transform(numerical_data)"
   ]
  },
  {
   "cell_type": "code",
   "execution_count": 22,
   "id": "4b211d9b",
   "metadata": {},
   "outputs": [],
   "source": [
    "train = np.hstack((num_data, ohe_data))"
   ]
  },
  {
   "cell_type": "code",
   "execution_count": 23,
   "id": "9b75ae62",
   "metadata": {},
   "outputs": [],
   "source": [
    "# validation split\n",
    "X_train_new, X_val, y_train_new, y_val = train_test_split(\n",
    "    train, y_train, test_size=0.2, random_state=42\n",
    ")"
   ]
  },
  {
   "cell_type": "code",
   "execution_count": 26,
   "id": "4db5fabb",
   "metadata": {},
   "outputs": [
    {
     "data": {
      "text/plain": [
       "0.6717178579433188"
      ]
     },
     "execution_count": 26,
     "metadata": {},
     "output_type": "execute_result"
    }
   ],
   "source": [
    "LR_model = LinearRegression()\n",
    "LR_model.fit(X_train_new, y_train_new)\n",
    "y_pred = LR_model.predict(X_val)\n",
    "LR_model_mse = mean_squared_error(y_val, y_pred)\n",
    "LR_model_r2 = r2_score(y_val, y_pred)\n",
    "LR_model_r2"
   ]
  },
  {
   "cell_type": "code",
   "execution_count": 28,
   "id": "fe1e724b",
   "metadata": {},
   "outputs": [
    {
     "data": {
      "text/plain": [
       "0.9666757743879584"
      ]
     },
     "execution_count": 28,
     "metadata": {},
     "output_type": "execute_result"
    }
   ],
   "source": [
    "RF_model = RandomForestRegressor()\n",
    "RF_model.fit(X_train_new, y_train_new)\n",
    "y_pred = RF_model.predict(X_val)\n",
    "RF_model_mse = mean_squared_error(y_val, y_pred)\n",
    "RF_model_r2 = r2_score(y_val, y_pred)\n",
    "RF_model_r2"
   ]
  },
  {
   "cell_type": "code",
   "execution_count": 43,
   "id": "0100641d",
   "metadata": {},
   "outputs": [
    {
     "data": {
      "text/plain": [
       "0.9143133661483394"
      ]
     },
     "execution_count": 43,
     "metadata": {},
     "output_type": "execute_result"
    }
   ],
   "source": [
    "GBM_model = GradientBoostingRegressor(n_estimators=600)\n",
    "GBM_model.fit(X_train_new, y_train_new)\n",
    "y_pred = GBM_model.predict(X_val)\n",
    "GBM_model_mse = mean_squared_error(y_val, y_pred)\n",
    "GBM_model_r2 = r2_score(y_val, y_pred)\n",
    "GBM_model_r2"
   ]
  },
  {
   "cell_type": "code",
   "execution_count": 44,
   "id": "08f0064b",
   "metadata": {},
   "outputs": [
    {
     "name": "stderr",
     "output_type": "stream",
     "text": [
      "C:\\Users\\bilal\\anaconda3\\envs\\mlenv\\lib\\site-packages\\sklearn\\neural_network\\_multilayer_perceptron.py:617: ConvergenceWarning: Stochastic Optimizer: Maximum iterations (200) reached and the optimization hasn't converged yet.\n",
      "  % self.max_iter, ConvergenceWarning)\n"
     ]
    },
    {
     "data": {
      "text/plain": [
       "0.34245361422350495"
      ]
     },
     "execution_count": 44,
     "metadata": {},
     "output_type": "execute_result"
    }
   ],
   "source": [
    "MLP_model = MLPRegressor(max_iter=200)\n",
    "MLP_model.fit(X_train_new, y_train_new)\n",
    "y_pred = MLP_model.predict(X_val)\n",
    "MLP_model_mse = mean_squared_error(y_val, y_pred)\n",
    "MLP_model_r2 = r2_score(y_val, y_pred)\n",
    "MLP_model_r2"
   ]
  },
  {
   "cell_type": "code",
   "execution_count": 45,
   "id": "d962f899",
   "metadata": {},
   "outputs": [
    {
     "data": {
      "text/plain": [
       "0.9463844951038567"
      ]
     },
     "execution_count": 45,
     "metadata": {},
     "output_type": "execute_result"
    }
   ],
   "source": [
    "DTR_model = DecisionTreeRegressor()\n",
    "DTR_model.fit(X_train_new, y_train_new)\n",
    "y_pred = DTR_model.predict(X_val)\n",
    "DTR_model_mse = mean_squared_error(y_val, y_pred)\n",
    "DTR_model_r2 = r2_score(y_val, y_pred)\n",
    "DTR_model_r2"
   ]
  },
  {
   "cell_type": "code",
   "execution_count": 49,
   "id": "67c60e66",
   "metadata": {},
   "outputs": [
    {
     "data": {
      "text/plain": [
       "0.671718026316422"
      ]
     },
     "execution_count": 49,
     "metadata": {},
     "output_type": "execute_result"
    }
   ],
   "source": [
    "Lasso_model = linear_model.Lasso(alpha=0.1,max_iter=50000)\n",
    "Lasso_model.fit(X_train_new, y_train_new)\n",
    "y_pred = Lasso_model.predict(X_val)\n",
    "Lasso_model_mse = mean_squared_error(y_val, y_pred)\n",
    "Lasso_model_r2 = r2_score(y_val, y_pred)\n",
    "Lasso_model_r2"
   ]
  },
  {
   "cell_type": "code",
   "execution_count": 55,
   "id": "04f2c02b",
   "metadata": {},
   "outputs": [],
   "source": [
    "# Define the model\n",
    "\n",
    "RF_model = RandomForestRegressor()\n",
    "\n",
    "# Define the grid\n",
    "\n",
    "param_grid = {\n",
    "'n_estimators': [50, 100, 200, 300],\n",
    "'min_samples_leaf': [1, 5, 10],\n",
    "'max_depth': [2, 4, 6, 8, 10],\n",
    "'max_features': ['auto', 'sqrt'],\n",
    "'bootstrap': [True, False]}\n",
    "\n",
    "# Instantiate GridSearchCV\n",
    "\n",
    "model_gridsearch = GridSearchCV(\n",
    "estimator=RF_model,\n",
    "param_grid=param_grid,\n",
    "scoring='r2',\n",
    "n_jobs=-1,\n",
    "cv=2,\n",
    "refit=True,\n",
    "return_train_score=True)"
   ]
  },
  {
   "cell_type": "code",
   "execution_count": 56,
   "id": "1f77b0f0",
   "metadata": {},
   "outputs": [
    {
     "data": {
      "text/plain": [
       "GridSearchCV(cv=2, estimator=RandomForestRegressor(), n_jobs=-1,\n",
       "             param_grid={'bootstrap': [True, False],\n",
       "                         'max_depth': [2, 4, 6, 8, 10],\n",
       "                         'max_features': ['auto', 'sqrt'],\n",
       "                         'min_samples_leaf': [1, 5, 10],\n",
       "                         'n_estimators': [50, 100, 200, 300]},\n",
       "             return_train_score=True, scoring='r2')"
      ]
     },
     "execution_count": 56,
     "metadata": {},
     "output_type": "execute_result"
    }
   ],
   "source": [
    "model_gridsearch.fit(train, y_train)"
   ]
  },
  {
   "cell_type": "code",
   "execution_count": 57,
   "id": "1101a88e",
   "metadata": {},
   "outputs": [
    {
     "name": "stdout",
     "output_type": "stream",
     "text": [
      "RandomForestRegressor(max_depth=10, n_estimators=200)\n"
     ]
    }
   ],
   "source": [
    "print(model_gridsearch.best_estimator_)\n"
   ]
  },
  {
   "cell_type": "code",
   "execution_count": 58,
   "id": "34362c32",
   "metadata": {},
   "outputs": [
    {
     "data": {
      "text/plain": [
       "RandomForestRegressor(max_depth=10, n_estimators=200)"
      ]
     },
     "execution_count": 58,
     "metadata": {},
     "output_type": "execute_result"
    }
   ],
   "source": [
    "final_RF_model = RandomForestRegressor(max_depth=10, n_estimators=200)\n",
    "final_RF_model.fit(train, y_train)"
   ]
  },
  {
   "cell_type": "code",
   "execution_count": 60,
   "id": "e8f8ae3b",
   "metadata": {},
   "outputs": [],
   "source": [
    "categorical_test_data = X_test[[\"Country_New\", \"Item\"]]\n",
    "numerical_test_data = X_test[\n",
    "    [\"Average Rainfall (mm/year)\", \"Pesticides (Tonnes)\", \"Average Temperature\"]\n",
    "]"
   ]
  },
  {
   "cell_type": "code",
   "execution_count": 62,
   "id": "7b3ab41f",
   "metadata": {},
   "outputs": [],
   "source": [
    "# One hot encoder\n",
    "ohe = OneHotEncoder(handle_unknown=\"error\")\n",
    "ohe.fit(categorical_data)\n",
    "ohe_test_data = ohe.transform(categorical_test_data).toarray()\n",
    "\n",
    "#Standarzizing data\n",
    "std = StandardScaler()\n",
    "std.fit(numerical_data)\n",
    "num_test_data = std.transform(numerical_test_data)"
   ]
  },
  {
   "cell_type": "code",
   "execution_count": 63,
   "id": "eb761c9a",
   "metadata": {},
   "outputs": [],
   "source": [
    "test = np.hstack((num_test_data, ohe_test_data))"
   ]
  },
  {
   "cell_type": "code",
   "execution_count": 66,
   "id": "755648de",
   "metadata": {},
   "outputs": [],
   "source": [
    "test_predictions = final_RF_model.predict(test)"
   ]
  },
  {
   "cell_type": "code",
   "execution_count": 68,
   "id": "82804224",
   "metadata": {},
   "outputs": [
    {
     "name": "stdout",
     "output_type": "stream",
     "text": [
      "0.9408217869742267\n"
     ]
    }
   ],
   "source": [
    "print(r2_score(y_test,test_predictions))"
   ]
  },
  {
   "cell_type": "code",
   "execution_count": null,
   "id": "d916bdfa",
   "metadata": {},
   "outputs": [],
   "source": []
  }
 ],
 "metadata": {
  "kernelspec": {
   "display_name": "mlenv",
   "language": "python",
   "name": "mlenv"
  },
  "language_info": {
   "codemirror_mode": {
    "name": "ipython",
    "version": 3
   },
   "file_extension": ".py",
   "mimetype": "text/x-python",
   "name": "python",
   "nbconvert_exporter": "python",
   "pygments_lexer": "ipython3",
   "version": "3.7.11"
  }
 },
 "nbformat": 4,
 "nbformat_minor": 5
}
